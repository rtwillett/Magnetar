{
 "cells": [
  {
   "cell_type": "code",
   "execution_count": 109,
   "id": "82d632f9",
   "metadata": {},
   "outputs": [
    {
     "ename": "SyntaxError",
     "evalue": "invalid syntax (3728895755.py, line 130)",
     "output_type": "error",
     "traceback": [
      "\u001b[0;36m  Cell \u001b[0;32mIn[109], line 130\u001b[0;36m\u001b[0m\n\u001b[0;31m    def\u001b[0m\n\u001b[0m        ^\u001b[0m\n\u001b[0;31mSyntaxError\u001b[0m\u001b[0;31m:\u001b[0m invalid syntax\n"
     ]
    }
   ],
   "source": [
    "from time import sleep\n",
    "\n",
    "class AbstractSelenium():\n",
    "\n",
    "    # Need to put in customization for a user agent\n",
    "    # https://stackoverflow.com/questions/29916054/change-user-agent-for-selenium-web-driver\n",
    "    \n",
    "    def __init__(self, driver_path = None):\n",
    "        from selenium import webdriver\n",
    "        from selenium.webdriver.chrome.service import Service\n",
    "        from selenium.webdriver.chrome.options import Options\n",
    "        \n",
    "        self.driver_path = driver_path\n",
    "            \n",
    "    def build_scraper(self):\n",
    "        '''\n",
    "        Sets up the directory dependency to drop the save files into by default.\n",
    "        '''\n",
    "\n",
    "        import os\n",
    "\n",
    "        if not os.path.exists('./html/'):\n",
    "            os.mkdir('./html/')\n",
    "        else: \n",
    "            print(\"/html/ directory exists\")\n",
    "\n",
    "        if not os.path.exists('./screenshot/'):\n",
    "            os.mkdir('./screenshot/')\n",
    "        else: \n",
    "            print(\"/screenshot/ directory exists\")\n",
    "            \n",
    "    def launch_browser(self, options=None):\n",
    "        from selenium import webdriver\n",
    "        \n",
    "        if not self.driver_path:\n",
    "            service = webdriver.ChromeService(executable_path = '/usr/bin/chromedriver')\n",
    "        else: \n",
    "            service = webdriver.ChromeService(executable_path = self.driver_path)\n",
    "            \n",
    "        self.driver = webdriver.Chrome(service=service)\n",
    "        \n",
    "    def close_browser(self):\n",
    "        self.driver.close()\n",
    "    \n",
    "    def recaptcha_click(self):\n",
    "        from selenium.webdriver.support.ui import WebDriverWait\n",
    "        from selenium.webdriver.common.by import By\n",
    "        from selenium.webdriver.support import expected_conditions as EC\n",
    "\n",
    "        WebDriverWait(self.driver, 2).until(EC.frame_to_be_available_and_switch_to_it((By.CSS_SELECTOR,\"iframe[src^='https://www.google.com/recaptcha/api2/anchor']\")))\n",
    "        WebDriverWait(self.driver, 2).until(EC.element_to_be_clickable((By.CSS_SELECTOR, \"div.recaptcha-checkbox-border\"))).click()\n",
    "\n",
    "    def go_to_site(self, url, delay = 0):\n",
    "        '''\n",
    "        Instructs the chromedriver to navigate to the site.\n",
    "        '''\n",
    "        \n",
    "        from time import sleep\n",
    "        \n",
    "        # The navigation will fail if it does not have a http:// or https:// prefix to the url. \n",
    "        # Only http:// needs to be appended because it will default to https if available from the site.\n",
    "        s = url.strip()\n",
    "        if re.search('https?\\:\\/\\/', s) is not None:\n",
    "            url_clean = s\n",
    "        else:\n",
    "            url_clean = f\"http://{s}\"\n",
    "           \n",
    "        # Check if there is a specified delay for navigation and act accordingly\n",
    "        if delay > 0:\n",
    "            sleep(delay)\n",
    "\n",
    "        self.driver.get(url_clean)\n",
    "\n",
    "    def save_source(self, filename):\n",
    "        '''\n",
    "        Saves down the source code for the current site that the driver is on. A one second sleep\n",
    "        is granted to allow the site to load before it is saved.\n",
    "        '''\n",
    "\n",
    "        # from erebus.crypto import make_alphanumeric_token\n",
    "        import time\n",
    "\n",
    "        # rando_string = make_alphanumeric_token(15)\n",
    "\n",
    "        # self.driver.get(url)\n",
    "        time.sleep(1)\n",
    "        file_out = f'./html/{filename}.html'\n",
    "        print(f\"\\nSaving source for site: {url}\")\n",
    "        print(file_out)\n",
    "\n",
    "        with open(file_out, 'w', encoding='utf-8') as f: \n",
    "            f.write(self.driver.page_source)\n",
    "\n",
    "    def screenshot(self, filename):\n",
    "        '''\n",
    "        Saves a screenshot of the current view of that url.\n",
    "        '''\n",
    "        self.driver.save_screenshot(f'./screenshot/{filename}.png')\n",
    "    \n",
    "\n",
    "\n",
    "class AbstractSpider(AbstractSelenium):\n",
    "    \n",
    "    def __init__(self, url_list, driver_path = None):\n",
    "        super().__init__(driver_path)\n",
    "        \n",
    "        self.url_list = url_list\n",
    "        \n",
    "    def test_main(self, url_list):\n",
    "        import time\n",
    "\n",
    "#         self.make_url_ids(url_list)\n",
    "\n",
    "#         for item in self.url_dict.items():\n",
    "#             self.go_to_site(item[0])\n",
    "#             time.sleep(1)\n",
    "#             self.save_source(item[0], item[1])\n",
    "#             self.screenshot(item[0], item[1]) \n",
    "            \n",
    "class UnitTestSelenium(AbstractSelenium):\n",
    "\n",
    "    def __init__(self, driver_path = None):\n",
    "        super().__init__(driver_path)\n",
    "\n",
    "    def extract_quotes(self):\n",
    "    #     dr = se.driver\n",
    "        \n",
    "        test = self.driver.find_elements_by_tag_name(\"span[class = 'text']\")\n",
    "        \n",
    "        return [t.text for t in test]\n",
    "\n",
    "    def test_main(self, url_list):\n",
    "        import time\n",
    "\n",
    "        self.make_url_ids(url_list)\n",
    "\n",
    "        self.quotes_list = []\n",
    "        for item in self.url_dict.items():\n",
    "            self.go_to_site(item[0])\n",
    "            time.sleep(1)\n",
    "            self.save_source(item[0], item[1])\n",
    "            self.screenshot(item[0], item[1])\n",
    "            self.quotes_list.extend(self.extract_quotes())\n",
    "            "
   ]
  },
  {
   "cell_type": "code",
   "execution_count": 103,
   "id": "24eb2526",
   "metadata": {},
   "outputs": [],
   "source": [
    "spider = AbstractSelenium()"
   ]
  },
  {
   "cell_type": "code",
   "execution_count": 104,
   "id": "8f5e4594",
   "metadata": {},
   "outputs": [],
   "source": [
    "spider.launch_browser()"
   ]
  },
  {
   "cell_type": "code",
   "execution_count": 105,
   "id": "07d60d7a",
   "metadata": {},
   "outputs": [
    {
     "name": "stdout",
     "output_type": "stream",
     "text": [
      "/html/ directory exists\n",
      "/screenshot/ directory exists\n"
     ]
    }
   ],
   "source": [
    "spider.build_scraper()"
   ]
  },
  {
   "cell_type": "code",
   "execution_count": 106,
   "id": "571375e7",
   "metadata": {},
   "outputs": [],
   "source": [
    "spider.go_to_site('www.msnbc.com')"
   ]
  },
  {
   "cell_type": "code",
   "execution_count": 107,
   "id": "35ae95ee",
   "metadata": {},
   "outputs": [],
   "source": [
    "spider.screenshot('testing')"
   ]
  },
  {
   "cell_type": "code",
   "execution_count": 108,
   "id": "48bdc3d1",
   "metadata": {},
   "outputs": [
    {
     "name": "stdout",
     "output_type": "stream",
     "text": [
      "\n",
      "Saving source for site: https://www.cnn.com\n",
      "./html/testing.html\n"
     ]
    }
   ],
   "source": [
    "spider.save_source('testing')"
   ]
  },
  {
   "cell_type": "code",
   "execution_count": null,
   "id": "94de5d61",
   "metadata": {},
   "outputs": [],
   "source": []
  }
 ],
 "metadata": {
  "kernelspec": {
   "display_name": "Python 3 (ipykernel)",
   "language": "python",
   "name": "python3"
  },
  "language_info": {
   "codemirror_mode": {
    "name": "ipython",
    "version": 3
   },
   "file_extension": ".py",
   "mimetype": "text/x-python",
   "name": "python",
   "nbconvert_exporter": "python",
   "pygments_lexer": "ipython3",
   "version": "3.11.4"
  }
 },
 "nbformat": 4,
 "nbformat_minor": 5
}
